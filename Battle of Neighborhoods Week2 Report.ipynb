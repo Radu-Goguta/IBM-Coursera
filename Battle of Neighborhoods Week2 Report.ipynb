{
 "cells": [
  {
   "cell_type": "markdown",
   "metadata": {},
   "source": [
    "# The Battle of Neighborhoods - Week 2 - Report\n",
    "___"
   ]
  },
  {
   "cell_type": "markdown",
   "metadata": {},
   "source": [
    "## Table of contents\n",
    "* [Introduction & Business Problem](#intro)\n",
    "* [Data](#data)\n",
    "* [Methodology](#method)\n",
    "* [Results & Discussion](#results)\n",
    "* [Discussion](#discuss)\n",
    "* [Conclusion](#conclusion)\n",
    "___"
   ]
  },
  {
   "cell_type": "markdown",
   "metadata": {},
   "source": [
    "### Introduction & Business Problem <a name='intro'></a>"
   ]
  },
  {
   "cell_type": "markdown",
   "metadata": {},
   "source": [
    "**Bratislava**, the capital of **Slovakia**, is set along the Danube River by the border with Austria and Hungary. It’s surrounded by vineyards and the Little Carpathian mountains, crisscrossed with forested hiking and cycling trails."
   ]
  },
  {
   "cell_type": "markdown",
   "metadata": {},
   "source": [
    "It is multicultural, it provides a lot of business oppourtunities and business friendly environment. It has attracted many different players from the market as many big corporations such as IBM, Amazon, Microsoft, Lenovo, Dell, Accenture etc. chose to create their centers here. It became the national hub of business and commerce of Slovakia."
   ]
  },
  {
   "cell_type": "markdown",
   "metadata": {},
   "source": [
    "With a high amount of professionals being employed to these companies coming from all Europe but also many other places across the world, there are a lot of business opportunities, specially in the food industry.\n",
    "____"
   ]
  },
  {
   "cell_type": "markdown",
   "metadata": {},
   "source": [
    "**Restaurant** is one of the most popular word in the present world. It is a public place, which opens to all for selling food and beverages on a commercial basis. With the high multicultural dimension that has been developed over the past few years in Bratislava consisting of people with a various of food preferences, it is very important to strategically plan if one should open a restaurant, and if yes, which area and what type of restaurant. Living in a competitive society, it is vital to take under consideration different factors such as:\n",
    "- Bratislava Population\n",
    "- Bratislava Demographics\n",
    "- Existing venues in a specific area\n",
    "- Nearby seesights where floating population is high, etc."
   ]
  },
  {
   "cell_type": "markdown",
   "metadata": {},
   "source": [
    "___\n",
    "### Data <a name='data'></a>"
   ]
  },
  {
   "cell_type": "markdown",
   "metadata": {},
   "source": [
    "For the purpose of this project, we will analyze the city of **Bratislava**\n",
    "\n",
    "The city of Bratislava consists of **5 Districts** and **17 Boroughs**.\n",
    "This dataset is available for free on the internet and can be found on the following link:\n",
    "- https://sk.wikipedia.org/wiki/Mestsk%C3%A9_%C4%8Dasti_Bratislavy"
   ]
  },
  {
   "cell_type": "markdown",
   "metadata": {},
   "source": [
    "In addition, we will also analyze demographic data such as: Area, Population, Gender, Income and Unemployment Rate. This data can be found on the Statistical Office of Slovak Republic website:\n",
    "- http://statdat.statistics.sk/cognosext/cgi-bin/cognos.cgi?b_action=xts.run&m=portal/cc.xts&gohome=\n",
    "- http://datacube.statistics.sk/#!/lang/en"
   ]
  },
  {
   "cell_type": "markdown",
   "metadata": {},
   "source": [
    "___\n",
    "### Methodology <a name='method'></a>"
   ]
  },
  {
   "cell_type": "markdown",
   "metadata": {},
   "source": [
    "We will start by analyzing and detecting areas with low restaurant (or specific type of restaurant) density. For this, we will use Foursquare API. Next, we will proceed with demographic analysis and try to identify potential business opportunities by taking under consideration the size of the area, population and gender classification, income and unemployment rate."
   ]
  },
  {
   "cell_type": "markdown",
   "metadata": {},
   "source": [
    "Lastly, we will focus on most promising areas and within those create **clusters of locations that meet some basic requirements** established in discussion with stakeholders: we will take into consideration locations with **low density restaurants**. We will present map of all **boroughs in Bratislava** and also create clusters (using **k-means clustering**) of those locations to identify general similarities which based on analysis, recommend where to start a new restaurant."
   ]
  },
  {
   "cell_type": "markdown",
   "metadata": {},
   "source": [
    "___\n",
    "### Results & Discussion <a name='results'></a>"
   ]
  },
  {
   "cell_type": "markdown",
   "metadata": {},
   "source": [
    "Our analysis shows that definitily there are areas which we can leverage in order to build a restaurant. Starting with the borough with the largest population, **Petržalka**, we notice that the top 5 most common venues, they don't include a restaurant. In addition, people from this borough have the 3rd best salaries from all Bratislava and also the lowest unemployment rate."
   ]
  },
  {
   "cell_type": "markdown",
   "metadata": {},
   "source": [
    "This means, there won't be too much competitivity in this area, while the number of residents is the highest in comparison with any other borough."
   ]
  },
  {
   "cell_type": "markdown",
   "metadata": {},
   "source": [
    "Applying the same thinking to following boroughs, **Ružinov**, which is the 2nd most populated, already contains a high number of restaurants with different cousine background and maybe is not such an attractive place for us to build a restaurant."
   ]
  },
  {
   "cell_type": "markdown",
   "metadata": {},
   "source": [
    "**Staré Mesto** on the other hand, the 3rd most populated borough of Bratislava, with the highest average salary for males and females, is represented by many coffee shops but not so many restaurants. Taking under consideration that is the center of Bratislava, and that there are also different touristic attractions, such as old churches and the castle which would drive high floating population, maybe would be an even better area to open a restaurant."
   ]
  },
  {
   "cell_type": "markdown",
   "metadata": {},
   "source": [
    "___\n",
    "### Conclusion <a name='conclusion'></a>"
   ]
  },
  {
   "cell_type": "markdown",
   "metadata": {},
   "source": [
    "The purpose of this project was to identify boroughs of Bratislava where our success rate in opening a restaurant business would be higher. This would aid our stakeholders to narrow down the search for optimal location to open their business. We started the project with collecting demographic data for the 5 districts of Bratislava, next we proceeded with some exploratory data analysis about the population and then we created a map of Bratislava containing all the districts and boroughs while clustering each borough using their similarities."
   ]
  },
  {
   "cell_type": "markdown",
   "metadata": {},
   "source": [
    "Final decision was based on specific characteristics of the boroughs and the demographic data. As a result, we were able to recommend the best zone for opening a restaurant business."
   ]
  },
  {
   "cell_type": "markdown",
   "metadata": {},
   "source": [
    "___"
   ]
  }
 ],
 "metadata": {
  "kernelspec": {
   "display_name": "Python 3",
   "language": "python",
   "name": "python3"
  },
  "language_info": {
   "codemirror_mode": {
    "name": "ipython",
    "version": 3
   },
   "file_extension": ".py",
   "mimetype": "text/x-python",
   "name": "python",
   "nbconvert_exporter": "python",
   "pygments_lexer": "ipython3",
   "version": "3.7.3"
  }
 },
 "nbformat": 4,
 "nbformat_minor": 2
}
