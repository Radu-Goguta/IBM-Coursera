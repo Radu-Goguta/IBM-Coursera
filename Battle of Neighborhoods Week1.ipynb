{
 "cells": [
  {
   "cell_type": "markdown",
   "metadata": {},
   "source": [
    "# The Battle of Neighborhoods - Week 1\n",
    "___"
   ]
  },
  {
   "cell_type": "markdown",
   "metadata": {},
   "source": [
    "## Table of contents\n",
    "* [Introduction](#intro)\n",
    "* [Business Problem](#bproblem)\n",
    "* [Target Audience](#taudience)\n",
    "* [Success Criteria](#scriteria)\n",
    "* [Data](#Data)\n",
    "* [Problem Solving](#psolving)\n",
    "___"
   ]
  },
  {
   "cell_type": "markdown",
   "metadata": {},
   "source": [
    "### Introduction <a name='intro'></a>"
   ]
  },
  {
   "cell_type": "markdown",
   "metadata": {},
   "source": [
    "**Bratislava**, the capital of **Slovakia**, is set along the Danube River by the border with Austria and Hungary. It’s surrounded by vineyards and the Little Carpathian mountains, crisscrossed with forested hiking and cycling trails."
   ]
  },
  {
   "cell_type": "markdown",
   "metadata": {},
   "source": [
    "It is multicultural, it provides a lot of business oppourtunities and business friendly environment. It has attracted many different players from the market as many big corporations such as IBM, Amazon, Microsoft, Lenovo, Dell, Accenture etc. chose to create their centers here. It became the national hub of business and commerce of Slovakia."
   ]
  },
  {
   "cell_type": "markdown",
   "metadata": {},
   "source": [
    "With a high amount of professionals being employed to these companies coming from all Europe but also many other places across the world, there are a lot of business opportunities, specially in the food industry."
   ]
  },
  {
   "cell_type": "markdown",
   "metadata": {},
   "source": [
    "### Business Problem: <a name='bproblem'></a>"
   ]
  },
  {
   "cell_type": "markdown",
   "metadata": {},
   "source": [
    "**Restaurant** is one of the most popular word in the present world. It is a public place, which opens to all for selling food and beverages on a commercial basis. With the high multicultural dimension that has been developed over the past few years in Bratislava consisting of people with a various of food preferences, it is very important to strategically plan if one should open a restaurant, and if yes, which area and what type of restaurant. Living in a competitive society, it is vital to take under consideration different factors such as:\n",
    "- Bratislava Population\n",
    "- Bratislava Demographics\n",
    "- Existing venues in a specific area\n",
    "- Nearby seesights where floating population is high, etc."
   ]
  },
  {
   "cell_type": "markdown",
   "metadata": {},
   "source": [
    "For building a restaurant, even though the company ABC is a very well funded company, it is vital for their success to choose the correct location to start their first venture. If the first venture turns into success, the same analytical approach can be applied to their future ventures."
   ]
  },
  {
   "cell_type": "markdown",
   "metadata": {},
   "source": [
    "### Target Audience: <a name='taudience'></a>"
   ]
  },
  {
   "cell_type": "markdown",
   "metadata": {},
   "source": [
    "To recommend the correct location, company ABC has contacted my office and outsourced their Business Problem. The objective is to locate and recommend to the management team which borough of Bratislava will be best choice to start a restaurant. The management team also expects to understand the rationale of the recommendations made.\n",
    "\n",
    "This would interest anyone who wants to start a new restaurant in Bratislava."
   ]
  },
  {
   "cell_type": "markdown",
   "metadata": {},
   "source": [
    "### Success Criteria: <a name='scriteria'></a>"
   ]
  },
  {
   "cell_type": "markdown",
   "metadata": {},
   "source": [
    "The success criteria of the project will be a good recommendation of borough choice to company ABC based on lack of such restaurants in that location."
   ]
  },
  {
   "cell_type": "markdown",
   "metadata": {},
   "source": [
    "### Data: <a name='Data'></a>"
   ]
  },
  {
   "cell_type": "markdown",
   "metadata": {},
   "source": [
    "For the purpose of this project, we will analyze the city of **Bratislava**\n",
    "\n",
    "The city of Bratislava consists of **5 Districts** and **17 Boroughs**.\n",
    "This dataset is available for free on the internet and can be found on the following link:\n",
    "- https://sk.wikipedia.org/wiki/Mestsk%C3%A9_%C4%8Dasti_Bratislavy"
   ]
  },
  {
   "cell_type": "markdown",
   "metadata": {},
   "source": [
    "In addition, we will also analyze demographic data such as: Area, Population, Gender, Income and Unemployment Rate. This data can be found on the Statistical Office of Slovak Republic website:\n",
    "- http://statdat.statistics.sk/cognosext/cgi-bin/cognos.cgi?b_action=xts.run&m=portal/cc.xts&gohome=\n",
    "- http://datacube.statistics.sk/#!/lang/en"
   ]
  },
  {
   "cell_type": "markdown",
   "metadata": {},
   "source": [
    "### Problem Solving: <a name='psolving'></a>"
   ]
  },
  {
   "cell_type": "markdown",
   "metadata": {},
   "source": [
    "We will start by analyzing and detecting areas with low restaurant (or specific type of restaurant) density. For this, we will use Foursquare API. Next, we will proceed with demographic analysis and try to identify potential business opportunities by taking under consideration the size of the area, population and gender classification, income and unemployment rate."
   ]
  },
  {
   "cell_type": "markdown",
   "metadata": {},
   "source": [
    "___"
   ]
  }
 ],
 "metadata": {
  "kernelspec": {
   "display_name": "Python 3",
   "language": "python",
   "name": "python3"
  },
  "language_info": {
   "codemirror_mode": {
    "name": "ipython",
    "version": 3
   },
   "file_extension": ".py",
   "mimetype": "text/x-python",
   "name": "python",
   "nbconvert_exporter": "python",
   "pygments_lexer": "ipython3",
   "version": "3.6.8"
  }
 },
 "nbformat": 4,
 "nbformat_minor": 2
}
